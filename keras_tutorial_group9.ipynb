{
 "cells": [
  {
   "cell_type": "markdown",
   "metadata": {
    "colab_type": "text",
    "id": "WE0g8n2m3hgF"
   },
   "source": [
    "**Classification Tutorial Using TensorFlow Keras and Deep learning**\n",
    "\n",
    "\n"
   ]
  },
  {
   "cell_type": "markdown",
   "metadata": {
    "colab_type": "text",
    "id": "jAqd_ubC32NO"
   },
   "source": [
    "**Introduction**\n",
    "\n",
    "> Machine Learning algorithm is a function that can tune variables in order to map our input to the output. Training of these data is done for thousands or even millions of iterations over the input and output data. In general, a ML problem has an input and an output but the algorithm to find these outputs is what must be learnt.  The Neural networks are in between these inputs and outputs\n",
    "\n",
    "> Neural Network can be defined as a stack of layers where each layer has a predefined Math and internal variables. Each layer is made up of units also called as Neurons.\n",
    "\n",
    "> In Neural Networks the math and internal variables are applied, and the resulting output is produced. In order to produce the results a neural network must be trained repeatedly to map the inputs to the outputs. In general, while training the neural networks it involves the tuning of the internal variables in the layers until the network provides the output for the new inputs.  \n",
    "\n",
    "**Dense Layer:**\n",
    "\n",
    "> A layer is called a dense layer when all the neurons present in the layer are  fully connected to neurons in the previous layer.\n",
    "\n",
    "![alt text](https://docs.google.com/drawings/d/e/2PACX-1vTt93Ge7slrJ8dlYa0N9BVa5BVuSKC9qcu11t5lila2gDlmtCQWGDtigW9JvLfvtQjsDYNPqJykSPQ4/pub?w=752&h=418)\n",
    " \n",
    "> X1,X2 and X3 are inputs and a1, a2, a3 are the neurons in the hidden layer. The a3 is the neuron in the output layer. As told before each layer has predefined math here w and b are weights and biases. These are the weights and biases that gets adjusted while the model is being trained. \n",
    "\n",
    "> The model that’s being calculated in dense layer is as follows:\n",
    "\n",
    "> Output at neuron a1: a1 = x1*w11 + x2*w12 + x3*w13 + b1\n",
    "\n",
    "> Output at neuron a2: a2 = x1*w21 + x2*w22+ x3*w23 + b2\n",
    "\n",
    "> Output at the output layer: a3 = a1*w31 + a2*w32 + b3 \n",
    "\n",
    "**For example:**\n",
    "\n",
    "> Following is a syntax in creating a single dense layer using Keras.\n",
    "\n",
    "> hidden = keras.layers.Dense (unit=2, input_shape=[3])\n",
    "\n",
    "> output = keras.layers.Dense (units=1)\n",
    "\n",
    "> model = tf.keras.sequential (hidden, output)\n",
    "\n",
    "\n",
    "\n"
   ]
  },
  {
   "cell_type": "markdown",
   "metadata": {
    "colab_type": "text",
    "id": "NtBSaYHpjov9"
   },
   "source": [
    "**Basic Activation functions in Dense layer**\n",
    "\n",
    "> Activation functions basically finds the output from a neural network. This function is present in each neuron and the functions decides if the neuron should be activated or turned off. This is based on neurons input is relavant for the model prediction.\n",
    "\n",
    "**Basic Activation functions used in Dense Layers**\n",
    "\n",
    "> **RELU - Rectified Linear unit**.\n",
    "\n",
    "> >![alt text](https://docs.google.com/drawings/d/e/2PACX-1vSBTlh9kdkwu0VWdfvTZxiLxPX1Q-Lr2JcKXx--bkrGDatA85PX06_qvmEj0F5cowhIPh_TtmkbXEPD/pub?w=312&h=190)\n",
    "\n",
    "> > As we can observe from graph, RELU function gives an output of 0 if the input is either a negative value or Zero. On the other hand, output is equal to the positive input value.\n",
    "F(x) = max(0,x).\n",
    "RELU activation function can be used to solve nonlinear problems.  RELU function is nonlinear at 0, but the slope is always  either 0 for negative values or 1 for positive values.\n",
    "\n",
    "> **Sigmoid**\n",
    "\n",
    "> > ![alt text](https://docs.google.com/drawings/d/e/2PACX-1vRrcBoexjVIbA6Mg9ttzwAZctyW8U3rB3dd5opXH2h3IS9eeXUbbj33lCGUfjE9qCfcDASWFzw_gWtU/pub?w=452&h=456)\n",
    "\n",
    "> > The output values of the sigmoid activation function ranges between 0 to 1. The sigmoid has no change in prediction X when its very high or too low which is a major drawback. Sigmoid are computationally expensive. \n",
    "\n",
    "> **TanH / Hyperbolic Tangent**\n",
    "> > The output of TanH is zero centered and it is easier to model the inputs which have higher negative and positive values. The output is like sigmoid and it is between 0 to 1. The disadvantage is like sigmoid.\n",
    "\n",
    "> **SoftMax Activation Function**\n",
    "> > SoftMax function takes input as a vector and it normalizes the input into a probability distribution, the probabilities obtained is proportional to the exponentials of the input vectors. \n",
    "\n",
    "\n",
    "\n",
    "\n"
   ]
  },
  {
   "cell_type": "markdown",
   "metadata": {
    "colab_type": "text",
    "id": "EWHV26wd_UKm"
   },
   "source": [
    "**Fashion MNIST Dataset**\n",
    "\n",
    "\n",
    "> Fashion MNIST is a dataset of Zalando's article images, the dataset contains a set of 60000 train examples and 10000 test examples. Each of the images in this dataset is 28X28 greyscale image and it is associated with a label from 10 classes. This dataset can be used as a drop-in replacement for MNIST. The class labels are:\n",
    "\n",
    "|Label|\tDescription|\n",
    "|---|---|\n",
    "|0\t|T-shirt/top|\n",
    "|1\t|Trouser|\n",
    "|2\t|Pullover|\n",
    "|3\t|Dress|\n",
    "|4\t|Coat|\n",
    "|5\t|Sandal|\n",
    "|6\t|Shirt|\n",
    "|7\t|Sneaker|\n",
    "|8\t|Bag|\n",
    "|9\t|Ankle boot|\n",
    "\n",
    "\n",
    "\n"
   ]
  },
  {
   "cell_type": "markdown",
   "metadata": {
    "colab_type": "text",
    "id": "hy22-xD8Bcvk"
   },
   "source": [
    "**Applying Neural Networks to Fashion MNIST Dataset**\n",
    "\n",
    "\n",
    "  ![alt text](https://docs.google.com/drawings/d/e/2PACX-1vRFYwHLyozg3RNMj6gL49ts16jIZzTInpvodiAc2AjMY3NeGTHTsglAPxNoTTAHWbepEZjOai17SpTM/pub?w=635&h=426)\n",
    "\n",
    "  Image: From tensorflow site and Udacity.\n",
    "\n",
    "\n",
    "> Input Images (28*28 =784 pixels)  - This is a  flattened layer with images as a one long string each of 784 pixels.\n",
    "\n",
    "> Each of the 784 pixels in the input layer is connected to each of the 128 Neurons in the dense layer. Dense layer will adjust the weights and bias in the training phase. \n",
    "\n",
    "> The output layer consists of 10 Neurons corresponding to each of 10 classes. Each of the neuron will give a probability score for all the classes and the final output will be the output neuron with the highest probability. \n",
    "\n",
    "> To make this more robust, **Intoduce CNN's - Convolutional Neural Networks**.\n",
    "\n",
    ">  CNN's work in Two steps:\n",
    "> > **Convolutions**\n",
    "\n",
    "> > **Pooling**\n",
    "\n",
    "> **Convolution**\n",
    "\n",
    "> Let’s assume an image of 6 pixels height and 6 pixels in width and the image is in grey scale, every pixel value ranges between 0 to 255. Where 0 is black and 255 being white. \n",
    "\n",
    "![alt text](https://docs.google.com/drawings/d/e/2PACX-1vTIQ0BUJLDwQkn5XOmOrv5jVFLMWMOFnxLGMeLLKLWKxzNo03fzOkCoZ8BtUi_mEyToa8dkUfqOrv4Q/pub?w=539&h=228)\n",
    "\n",
    "> > Convolution follows a methodology of creating another grid of numbers called kernel or filter, for instance  take it as 3 x 3 grid.\n",
    "\n",
    "For example, consider pixel highlighted in color green, first step is to center our kernel over the pixel we want.  Now the concentration is on 3 by 3 grid as our kernel size is as well 3 by 3. The second step is to pick the image and corresponding kernel value, multiply them and sum the whole thing. The third step is to assign the pixel to convoluted image to the same position i.e. the position in original 2d 6 by 6 matrix. \n",
    "\n",
    "![alt text](https://docs.google.com/drawings/d/e/2PACX-1vQhO6ZzMqKq6dHbU9G0NH1A1yf12CQp9DffoaBoq679Mm5AnQOw_HnhH0etg2NYwPEMLgVlLgUtHxmH/pub?w=360&h=241)\n",
    "\n",
    "> > **Example** :\n",
    "> > First gray highlighted pixel in  \n",
    "\n",
    "\n",
    "                2 x 1 =2\n",
    "                \n",
    "                5 x 2 = 10\n",
    "                \n",
    "                4 x 1 = 4\n",
    "\n",
    "> > Similarly multiply all the values with kernel values and\n",
    "\n",
    "> > summation = 2+ 10+ 4+ - + - + ------- = 198. \n",
    " \n",
    " > > So, 198 is our corresponding value in convoluted image.  This step is repeated for all the pixel values and new convoluted pixel value is found.\n",
    "\n",
    "> > For the pixels in the corner, there are multiple ways to handle this. The simple way is to ignore this pixel and think it did not exist, the downside of this method is lots of image information is lost. The better way is to perform zero padding i.e. is to add zeros around the corner pixels.\n",
    "\n",
    "> **Pooling**\n",
    "\n",
    "> > The Tutorial utilizes Max Pooling methodology.\n",
    "\n",
    "> > Max Pooling is a process of reducing the size of an input image by summarizing regions.\n",
    "\n",
    "![alt text](https://docs.google.com/drawings/d/e/2PACX-1vQ7YUnvtkrRvUMOcbbwrLY6xp09eDuERz-B22zuMDCioSkpippyQ09KT8gWUy-zaCgEoT1b5V2-qXNQ/pub?w=570&h=286)\n",
    "\n",
    "> > To perform max pooling, we need to select two things, 1. Grid – The pool size and 2. Stride.\n",
    "\n",
    "\n",
    "> > For the above grey scale image, consider 2 x 2-pixel grid highlighted in color and look into the pixel, which is in  yellow color, the next step is to select the highest value in 2 x 2 grid. In this case among 22, 27, 91 and 110, 110 is the greatest value so the new pixel value is 110 and it is highlighted in yellow color in new image 3 x 3-pixel view.\n",
    "\n",
    "> > The parameter stride determines the number of pixels to slide the window in the image. \n",
    "\n",
    "\n",
    "\n",
    "\n",
    "\n",
    "\n"
   ]
  },
  {
   "cell_type": "markdown",
   "metadata": {
    "colab_type": "text",
    "id": "i-Z1lq2wORjz"
   },
   "source": [
    "**Techniques to avoid overfitting in Neural Networks**\n",
    "\n",
    "1.\t**Dropout**:\n",
    "\n",
    "> Dropouts involves turning off some of the neurons during the training process. The turning off the neurons happens during epochs.  Feed forward and back propagation is used to turn off the neurons during each epoch.\n",
    "\n",
    "2.\t**Image Augmentation**:\n",
    "\n",
    "> Image Augmentation works based on creating new training images by applying many random image transformations. Some of the transformations are random rotation to the original image, Flipping and random zoom.\n",
    "\n",
    "3.\t**Early Stopping**: \n",
    "\n",
    "> In this method validation loss is tracked during the training of the model, use it to determine when to stop the training  such that the model is accurate and making sure its are not over-fitting. \n",
    "\n",
    "4.\t **Cross validation**:\n",
    "\n",
    "> Using validation data to evaluate the loss and model metrics at end of each epoch. This helps to validate on every epoch and indicating how good our model is.\n",
    "\n",
    "Now, Applying this knowledge to practice\n"
   ]
  },
  {
   "cell_type": "markdown",
   "metadata": {
    "colab_type": "text",
    "id": "E4rrA5MGQGcn"
   },
   "source": [
    "**Import TensorFlow Modules**\n",
    "\n",
    "> **Import Tensorflow and Keras**- Implementation of Neural Networks.\n",
    "\n",
    "> **Import keras.datasets** - The dataset used in the tutorial is imported is available in keras datasets.\n",
    "\n",
    "> Import other necessary modules as shown below."
   ]
  },
  {
   "cell_type": "code",
   "execution_count": 1,
   "metadata": {
    "colab": {
     "base_uri": "https://localhost:8080/",
     "height": 34
    },
    "colab_type": "code",
    "id": "V_yaQlZi5uKo",
    "outputId": "0cf4d586-d6fb-4e76-e90b-5bae6ff6bb89"
   },
   "outputs": [
    {
     "name": "stderr",
     "output_type": "stream",
     "text": [
      "Using TensorFlow backend.\n"
     ]
    }
   ],
   "source": [
    "from keras.datasets import fashion_mnist\n",
    "from tensorflow import keras\n",
    "import tensorflow as tf\n",
    "from tensorflow.keras import layers\n",
    "from sklearn.model_selection import KFold\n",
    "from sklearn.preprocessing import MinMaxScaler\n",
    "import matplotlib.pyplot as plt\n",
    "from tensorflow.keras.callbacks import EarlyStopping\n",
    "from sklearn.model_selection import train_test_split\n",
    "import numpy as np\n",
    "from keras.models import Sequential\n",
    "from keras.layers import Dense\n",
    "from keras.utils.vis_utils import plot_model"
   ]
  },
  {
   "cell_type": "markdown",
   "metadata": {
    "colab_type": "text",
    "id": "fToKKU8ARAyb"
   },
   "source": [
    "**Downloadin the data**\n",
    "\n",
    "> Fashion_mnist.load_data will download the data, the data is already avaliable in the form of train and test splits."
   ]
  },
  {
   "cell_type": "code",
   "execution_count": 2,
   "metadata": {
    "colab": {
     "base_uri": "https://localhost:8080/",
     "height": 151
    },
    "colab_type": "code",
    "id": "geLz0PMW5uKu",
    "outputId": "12bec3c5-8de2-4bf4-92b2-023f720eef29"
   },
   "outputs": [],
   "source": [
    "(x_train, y_train), (x_test, y_test) = fashion_mnist.load_data()"
   ]
  },
  {
   "cell_type": "markdown",
   "metadata": {
    "colab_type": "text",
    "id": "SCSboUmyRUwj"
   },
   "source": [
    "**Observing the Dimensions of our dataset**\n",
    "\n"
   ]
  },
  {
   "cell_type": "code",
   "execution_count": 3,
   "metadata": {
    "colab": {
     "base_uri": "https://localhost:8080/",
     "height": 34
    },
    "colab_type": "code",
    "id": "L9Y88hQn5uKy",
    "outputId": "9df39697-878d-477f-d2ef-5ca6da9ac7ff"
   },
   "outputs": [
    {
     "data": {
      "text/plain": [
       "((60000, 28, 28), (60000,), (10000, 28, 28), (10000,))"
      ]
     },
     "execution_count": 3,
     "metadata": {},
     "output_type": "execute_result"
    }
   ],
   "source": [
    "x_train.shape, y_train.shape, x_test.shape, y_test.shape"
   ]
  },
  {
   "cell_type": "markdown",
   "metadata": {
    "colab_type": "text",
    "id": "oRLCWnUVRdl_"
   },
   "source": [
    "**Scaling and Reshaping**\n",
    "\n",
    "> **Normalize** the data by dividing all the pixel values with the max pixel value i.e., 255. \n",
    "\n",
    "> **Reshaping** the data into 4 channels i.e., (samples, x dimensions, y dimensions, number of channels.) in a format expected by tensorflow. "
   ]
  },
  {
   "cell_type": "code",
   "execution_count": 4,
   "metadata": {
    "colab": {},
    "colab_type": "code",
    "id": "Ib8HxQlO5uK3",
    "scrolled": false
   },
   "outputs": [],
   "source": [
    "x_train_scaled = (x_train/255.0).reshape((x_train.shape[0],28,28,1))\n",
    "x_test_scaled = (x_test/255.0).reshape((x_test.shape[0],28,28,1))"
   ]
  },
  {
   "cell_type": "markdown",
   "metadata": {
    "colab_type": "text",
    "id": "S1pafOa0Sz2U"
   },
   "source": [
    "**Function to display the performance summary of the Deep Learning Models**\n",
    "\n",
    "> The function plots accuracy and loss for both training and validation data against the number of epochs. "
   ]
  },
  {
   "cell_type": "code",
   "execution_count": 5,
   "metadata": {
    "colab": {},
    "colab_type": "code",
    "id": "zVwkOrOfgGpK"
   },
   "outputs": [],
   "source": [
    "def plot_summary(histories):\n",
    "  for i in range(0,len(histories)):\n",
    "    plt.subplot(1, 2, 1)\n",
    "    plt.plot(histories[i].history['accuracy'],color='green')\n",
    "    plt.plot(histories[i].history['val_accuracy'],color='red')\n",
    "    plt.title('model accuracy')\n",
    "    plt.ylabel('accuracy')\n",
    "    plt.xlabel('epoch')\n",
    "    plt.legend(['train', 'val'], loc='best')\n",
    "    plt.subplot(1, 2, 2)\n",
    "    plt.plot(histories[i].history['loss'],color='green')\n",
    "    plt.plot(histories[i].history['val_loss'],color='red')\n",
    "    plt.title('model loss')\n",
    "    plt.ylabel('loss')\n",
    "    plt.xlabel('epoch')\n",
    "    plt.legend(['train', 'val'], loc='best')\n",
    "  plt.show()"
   ]
  },
  {
   "cell_type": "markdown",
   "metadata": {
    "colab_type": "text",
    "id": "5CB6GXYST4uX"
   },
   "source": [
    "**Deep Learning Model**\n",
    "\n",
    "> The following function creates a **sequential keras model**.\n",
    "\n",
    "> > **Sequential Model** allows to create model layer by layer. \n",
    "\n",
    "> > The model utilized here is **RELU - Rectified Linear unit**. \n",
    "\n",
    "> > For initializing the weights The model consists of **HE UNIFORM Kernel** initializer - It draws samples from a uniform distribution within [-limit, limit] where limit is sqrt(6 / fan_in) where fan_in is the number of input units in the weight tensor.\n",
    "\n",
    "> > The **Max Pooling of 2X2** is added to the model, striding by default will take the value of pool if not mentioned explicitly.\n",
    "\n",
    "> > **Flattening** the matrix into a vector.\n",
    "\n",
    "> > The model consists a **dense layer** with 100 neurons with Relu activation. \n",
    "\n",
    "> > The output consists of 10 neurons to represent 10 output classes, with softmax activation function.\n",
    "\n",
    "**Compiling the model**\n",
    "\n",
    "> > The model uses **SGD- Stochastic Gradient Descent** - which is computationally less expensive as compared to GD as it updates the weights on each step of the training unlike gradient descent which updates on scanning through the whole training set. SGD can also be called as on-line GD.\n",
    "\n",
    "> > **Sparse Categorical Entropy** is used in this model since there are more than 2 output categories. Categorical Entroy is used to measure the dissimilarity between the distribution of observed class labels and the predicted probabilities of class membership.\n",
    "\n",
    "\n",
    "\n"
   ]
  },
  {
   "cell_type": "code",
   "execution_count": 6,
   "metadata": {
    "colab": {},
    "colab_type": "code",
    "id": "LZyGI9YO5uK6"
   },
   "outputs": [],
   "source": [
    "def create_model():\n",
    "    model = keras.Sequential()\n",
    "    model.add(layers.Conv2D(32, (3, 3), activation='relu', kernel_initializer='he_uniform', input_shape=(28, 28,1)))\n",
    "    model.add(layers.MaxPooling2D((2, 2)))\n",
    "    model.add(layers.Flatten())\n",
    "    model.add(layers.Dense(100, activation='relu', kernel_initializer='he_uniform'))\n",
    "    model.add(layers.Dense(10, activation='softmax'))\n",
    "    # compile model\n",
    "    opt = keras.optimizers.SGD(lr=0.01, momentum=0.9)\n",
    "    model.compile(optimizer=opt, loss='sparse_categorical_crossentropy', metrics=['accuracy'])\n",
    "    return model"
   ]
  },
  {
   "cell_type": "markdown",
   "metadata": {
    "colab_type": "text",
    "id": "aQyLR5XKdFb1"
   },
   "source": [
    "**Model with a Feature to avoid over fitting**\n",
    "\n",
    "> > In addition to the previous model, this consists of a convolutional layer with higher number of filters.\n",
    "\n",
    "> > It also consists of a **dropout** Layer technique which turns off the neurons based on wrapping function."
   ]
  },
  {
   "cell_type": "code",
   "execution_count": 7,
   "metadata": {
    "colab": {},
    "colab_type": "code",
    "id": "nOHyjYbLPYTm"
   },
   "outputs": [],
   "source": [
    "def create_model_dropout():\n",
    "    model = keras.Sequential()\n",
    "    model.add(layers.Conv2D(64, (3, 3), activation='relu', kernel_initializer='he_uniform', input_shape=(28, 28,1)))\n",
    "    model.add(layers.MaxPooling2D((2, 2)))\n",
    "    model.add(tf.keras.layers.Dropout(0.3))\n",
    "    model.add(layers.Flatten())\n",
    "    model.add(layers.Dense(100, activation='relu', kernel_initializer='he_uniform'))\n",
    "    model.add(tf.keras.layers.Dropout(0.5))\n",
    "    model.add(layers.Dense(10, activation='softmax'))\n",
    "    # compile model\n",
    "    opt = keras.optimizers.SGD(lr=0.01, momentum=0.9)\n",
    "    model.compile(optimizer=opt, loss='sparse_categorical_crossentropy', metrics=['accuracy'])\n",
    "    return model"
   ]
  },
  {
   "cell_type": "markdown",
   "metadata": {
    "colab_type": "text",
    "id": "BlvJC8l0fOjm"
   },
   "source": [
    "**Model Evaluation Methodology**\n",
    "\n",
    "> > There are 4 different varaitions of the model is this tutorial: \n",
    "\n",
    "> **First Model**\n",
    "\n",
    "> > Description: This model uses 5 KFOLD cross validation, with 100 epochs and validation data. "
   ]
  },
  {
   "cell_type": "code",
   "execution_count": 80,
   "metadata": {
    "colab": {
     "base_uri": "https://localhost:8080/",
     "height": 1000
    },
    "colab_type": "code",
    "id": "PYcIs68m5uK-",
    "outputId": "3f9c8aa4-81b2-493e-976b-81b198c32eaa",
    "scrolled": true
   },
   "outputs": [
    {
     "name": "stdout",
     "output_type": "stream",
     "text": [
      "Train on 48000 samples, validate on 12000 samples\n",
      "Epoch 1/20\n",
      "48000/48000 - 13s - loss: 0.4225 - accuracy: 0.8493 - val_loss: 0.3246 - val_accuracy: 0.8858\n",
      "Epoch 2/20\n",
      "48000/48000 - 15s - loss: 0.2870 - accuracy: 0.8950 - val_loss: 0.2996 - val_accuracy: 0.8923\n",
      "Epoch 3/20\n",
      "48000/48000 - 16s - loss: 0.2455 - accuracy: 0.9107 - val_loss: 0.2657 - val_accuracy: 0.9014\n",
      "Epoch 4/20\n",
      "48000/48000 - 16s - loss: 0.2125 - accuracy: 0.9225 - val_loss: 0.2677 - val_accuracy: 0.9043\n",
      "Epoch 5/20\n",
      "48000/48000 - 16s - loss: 0.1928 - accuracy: 0.9298 - val_loss: 0.2518 - val_accuracy: 0.9118\n",
      "Epoch 6/20\n",
      "48000/48000 - 16s - loss: 0.1727 - accuracy: 0.9358 - val_loss: 0.2500 - val_accuracy: 0.9120\n",
      "Epoch 7/20\n",
      "48000/48000 - 16s - loss: 0.1540 - accuracy: 0.9436 - val_loss: 0.2659 - val_accuracy: 0.9101\n",
      "Epoch 8/20\n",
      "48000/48000 - 16s - loss: 0.1382 - accuracy: 0.9490 - val_loss: 0.2554 - val_accuracy: 0.9159\n",
      "Epoch 9/20\n",
      "48000/48000 - 16s - loss: 0.1223 - accuracy: 0.9565 - val_loss: 0.2747 - val_accuracy: 0.9097\n",
      "Epoch 10/20\n",
      "48000/48000 - 16s - loss: 0.1132 - accuracy: 0.9596 - val_loss: 0.2956 - val_accuracy: 0.9061\n",
      "Epoch 11/20\n",
      "48000/48000 - 16s - loss: 0.0968 - accuracy: 0.9662 - val_loss: 0.2996 - val_accuracy: 0.9123\n",
      "Epoch 12/20\n",
      "48000/48000 - 16s - loss: 0.0863 - accuracy: 0.9698 - val_loss: 0.2970 - val_accuracy: 0.9075\n",
      "Epoch 13/20\n",
      "48000/48000 - 16s - loss: 0.0789 - accuracy: 0.9720 - val_loss: 0.3087 - val_accuracy: 0.9083\n",
      "Epoch 14/20\n",
      "48000/48000 - 16s - loss: 0.0713 - accuracy: 0.9750 - val_loss: 0.3101 - val_accuracy: 0.9101\n",
      "Epoch 15/20\n",
      "48000/48000 - 16s - loss: 0.0596 - accuracy: 0.9789 - val_loss: 0.3250 - val_accuracy: 0.9141\n",
      "Epoch 16/20\n",
      "48000/48000 - 16s - loss: 0.0542 - accuracy: 0.9808 - val_loss: 0.3268 - val_accuracy: 0.9091\n",
      "Epoch 17/20\n",
      "48000/48000 - 16s - loss: 0.0487 - accuracy: 0.9830 - val_loss: 0.3532 - val_accuracy: 0.9109\n",
      "Epoch 18/20\n",
      "48000/48000 - 16s - loss: 0.0439 - accuracy: 0.9848 - val_loss: 0.3905 - val_accuracy: 0.9117\n",
      "Epoch 19/20\n",
      "48000/48000 - 16s - loss: 0.0365 - accuracy: 0.9877 - val_loss: 0.3871 - val_accuracy: 0.9113\n",
      "Epoch 20/20\n",
      "48000/48000 - 16s - loss: 0.0330 - accuracy: 0.9886 - val_loss: 0.3949 - val_accuracy: 0.9087\n",
      "12000/1 - 1s - loss: 0.3768 - accuracy: 0.9087\n",
      "Train on 48000 samples, validate on 12000 samples\n",
      "Epoch 1/20\n",
      "48000/48000 - 16s - loss: 0.4370 - accuracy: 0.8433 - val_loss: 0.3283 - val_accuracy: 0.8832\n",
      "Epoch 2/20\n",
      "48000/48000 - 16s - loss: 0.2862 - accuracy: 0.8966 - val_loss: 0.3128 - val_accuracy: 0.8862\n",
      "Epoch 3/20\n",
      "48000/48000 - 16s - loss: 0.2434 - accuracy: 0.9112 - val_loss: 0.3086 - val_accuracy: 0.8874\n",
      "Epoch 4/20\n",
      "48000/48000 - 16s - loss: 0.2117 - accuracy: 0.9232 - val_loss: 0.2751 - val_accuracy: 0.9035\n",
      "Epoch 5/20\n",
      "48000/48000 - 16s - loss: 0.1891 - accuracy: 0.9305 - val_loss: 0.2583 - val_accuracy: 0.9091\n",
      "Epoch 6/20\n",
      "48000/48000 - 16s - loss: 0.1663 - accuracy: 0.9388 - val_loss: 0.2737 - val_accuracy: 0.9039\n",
      "Epoch 7/20\n",
      "48000/48000 - 16s - loss: 0.1489 - accuracy: 0.9446 - val_loss: 0.2678 - val_accuracy: 0.9094\n",
      "Epoch 8/20\n",
      "48000/48000 - 16s - loss: 0.1328 - accuracy: 0.9520 - val_loss: 0.2772 - val_accuracy: 0.9054\n",
      "Epoch 9/20\n",
      "48000/48000 - 16s - loss: 0.1178 - accuracy: 0.9572 - val_loss: 0.2804 - val_accuracy: 0.9092\n",
      "Epoch 10/20\n",
      "48000/48000 - 16s - loss: 0.1056 - accuracy: 0.9615 - val_loss: 0.2922 - val_accuracy: 0.9078\n",
      "Epoch 11/20\n",
      "48000/48000 - 18s - loss: 0.0914 - accuracy: 0.9664 - val_loss: 0.3075 - val_accuracy: 0.9084\n",
      "Epoch 12/20\n",
      "48000/48000 - 16s - loss: 0.0819 - accuracy: 0.9697 - val_loss: 0.3448 - val_accuracy: 0.9022\n",
      "Epoch 13/20\n",
      "48000/48000 - 18s - loss: 0.0717 - accuracy: 0.9750 - val_loss: 0.3137 - val_accuracy: 0.9105\n",
      "Epoch 14/20\n",
      "48000/48000 - 19s - loss: 0.0659 - accuracy: 0.9773 - val_loss: 0.3344 - val_accuracy: 0.9087\n",
      "Epoch 15/20\n",
      "48000/48000 - 16s - loss: 0.0531 - accuracy: 0.9810 - val_loss: 0.3430 - val_accuracy: 0.9124\n",
      "Epoch 16/20\n",
      "48000/48000 - 16s - loss: 0.0483 - accuracy: 0.9831 - val_loss: 0.3626 - val_accuracy: 0.9099\n",
      "Epoch 17/20\n",
      "48000/48000 - 16s - loss: 0.0432 - accuracy: 0.9852 - val_loss: 0.3815 - val_accuracy: 0.9078\n",
      "Epoch 18/20\n",
      "48000/48000 - 16s - loss: 0.0359 - accuracy: 0.9879 - val_loss: 0.3843 - val_accuracy: 0.9112\n",
      "Epoch 19/20\n",
      "48000/48000 - 16s - loss: 0.0336 - accuracy: 0.9887 - val_loss: 0.3864 - val_accuracy: 0.9121\n",
      "Epoch 20/20\n",
      "48000/48000 - 16s - loss: 0.0287 - accuracy: 0.9906 - val_loss: 0.4177 - val_accuracy: 0.9111\n",
      "12000/1 - 1s - loss: 0.2608 - accuracy: 0.9111\n",
      "Train on 48000 samples, validate on 12000 samples\n",
      "Epoch 1/20\n",
      "48000/48000 - 17s - loss: 0.4561 - accuracy: 0.8363 - val_loss: 0.3448 - val_accuracy: 0.8776\n",
      "Epoch 2/20\n",
      "48000/48000 - 16s - loss: 0.2966 - accuracy: 0.8922 - val_loss: 0.2806 - val_accuracy: 0.8978\n",
      "Epoch 3/20\n",
      "48000/48000 - 16s - loss: 0.2547 - accuracy: 0.9068 - val_loss: 0.2553 - val_accuracy: 0.9064\n",
      "Epoch 4/20\n",
      "48000/48000 - 16s - loss: 0.2214 - accuracy: 0.9178 - val_loss: 0.2630 - val_accuracy: 0.9072\n",
      "Epoch 5/20\n",
      "48000/48000 - 16s - loss: 0.1975 - accuracy: 0.9274 - val_loss: 0.2551 - val_accuracy: 0.9073\n",
      "Epoch 6/20\n",
      "48000/48000 - 16s - loss: 0.1784 - accuracy: 0.9338 - val_loss: 0.2356 - val_accuracy: 0.9188\n",
      "Epoch 7/20\n",
      "48000/48000 - 16s - loss: 0.1620 - accuracy: 0.9403 - val_loss: 0.2600 - val_accuracy: 0.9139\n",
      "Epoch 8/20\n",
      "48000/48000 - 16s - loss: 0.1452 - accuracy: 0.9466 - val_loss: 0.2528 - val_accuracy: 0.9141\n",
      "Epoch 9/20\n",
      "48000/48000 - 16s - loss: 0.1304 - accuracy: 0.9510 - val_loss: 0.2536 - val_accuracy: 0.9168\n",
      "Epoch 10/20\n",
      "48000/48000 - 16s - loss: 0.1168 - accuracy: 0.9576 - val_loss: 0.2812 - val_accuracy: 0.9094\n",
      "Epoch 11/20\n",
      "48000/48000 - 16s - loss: 0.1046 - accuracy: 0.9616 - val_loss: 0.2692 - val_accuracy: 0.9170\n",
      "Epoch 12/20\n",
      "48000/48000 - 16s - loss: 0.0939 - accuracy: 0.9660 - val_loss: 0.2713 - val_accuracy: 0.9164\n",
      "Epoch 13/20\n",
      "48000/48000 - 16s - loss: 0.0817 - accuracy: 0.9710 - val_loss: 0.2807 - val_accuracy: 0.9150\n",
      "Epoch 14/20\n",
      "48000/48000 - 16s - loss: 0.0755 - accuracy: 0.9726 - val_loss: 0.3471 - val_accuracy: 0.9068\n",
      "Epoch 15/20\n",
      "48000/48000 - 16s - loss: 0.0662 - accuracy: 0.9759 - val_loss: 0.3126 - val_accuracy: 0.9123\n",
      "Epoch 16/20\n",
      "48000/48000 - 16s - loss: 0.0577 - accuracy: 0.9798 - val_loss: 0.3235 - val_accuracy: 0.9125\n",
      "Epoch 17/20\n",
      "48000/48000 - 16s - loss: 0.0520 - accuracy: 0.9824 - val_loss: 0.3304 - val_accuracy: 0.9172\n",
      "Epoch 18/20\n",
      "48000/48000 - 16s - loss: 0.0480 - accuracy: 0.9828 - val_loss: 0.3489 - val_accuracy: 0.9148\n",
      "Epoch 19/20\n",
      "48000/48000 - 16s - loss: 0.0436 - accuracy: 0.9848 - val_loss: 0.3555 - val_accuracy: 0.9109\n",
      "Epoch 20/20\n",
      "48000/48000 - 16s - loss: 0.0349 - accuracy: 0.9886 - val_loss: 0.3896 - val_accuracy: 0.9133\n",
      "12000/1 - 1s - loss: 0.2820 - accuracy: 0.9133\n",
      "Train on 48000 samples, validate on 12000 samples\n",
      "Epoch 1/20\n",
      "48000/48000 - 16s - loss: 0.4635 - accuracy: 0.8319 - val_loss: 0.3281 - val_accuracy: 0.8848\n",
      "Epoch 2/20\n",
      "48000/48000 - 16s - loss: 0.3042 - accuracy: 0.8900 - val_loss: 0.3084 - val_accuracy: 0.8894\n",
      "Epoch 3/20\n",
      "48000/48000 - 16s - loss: 0.2579 - accuracy: 0.9057 - val_loss: 0.2639 - val_accuracy: 0.9070\n",
      "Epoch 4/20\n",
      "48000/48000 - 16s - loss: 0.2283 - accuracy: 0.9155 - val_loss: 0.2625 - val_accuracy: 0.9082\n",
      "Epoch 5/20\n",
      "48000/48000 - 16s - loss: 0.2055 - accuracy: 0.9243 - val_loss: 0.2573 - val_accuracy: 0.9090\n",
      "Epoch 6/20\n",
      "48000/48000 - 16s - loss: 0.1856 - accuracy: 0.9315 - val_loss: 0.2738 - val_accuracy: 0.9056\n",
      "Epoch 7/20\n",
      "48000/48000 - 16s - loss: 0.1681 - accuracy: 0.9374 - val_loss: 0.2458 - val_accuracy: 0.9176\n",
      "Epoch 8/20\n",
      "48000/48000 - 16s - loss: 0.1534 - accuracy: 0.9431 - val_loss: 0.2490 - val_accuracy: 0.9171\n",
      "Epoch 9/20\n",
      "48000/48000 - 16s - loss: 0.1377 - accuracy: 0.9494 - val_loss: 0.2553 - val_accuracy: 0.9158\n",
      "Epoch 10/20\n",
      "48000/48000 - 16s - loss: 0.1269 - accuracy: 0.9531 - val_loss: 0.2446 - val_accuracy: 0.9191\n",
      "Epoch 11/20\n",
      "48000/48000 - 16s - loss: 0.1134 - accuracy: 0.9585 - val_loss: 0.2919 - val_accuracy: 0.9064\n",
      "Epoch 12/20\n",
      "48000/48000 - 16s - loss: 0.1020 - accuracy: 0.9629 - val_loss: 0.2582 - val_accuracy: 0.9204\n",
      "Epoch 13/20\n",
      "48000/48000 - 16s - loss: 0.0921 - accuracy: 0.9659 - val_loss: 0.2883 - val_accuracy: 0.9135\n",
      "Epoch 14/20\n",
      "48000/48000 - 16s - loss: 0.0792 - accuracy: 0.9712 - val_loss: 0.2845 - val_accuracy: 0.9175\n",
      "Epoch 15/20\n",
      "48000/48000 - 16s - loss: 0.0745 - accuracy: 0.9729 - val_loss: 0.3062 - val_accuracy: 0.9181\n"
     ]
    },
    {
     "name": "stdout",
     "output_type": "stream",
     "text": [
      "Epoch 16/20\n",
      "48000/48000 - 16s - loss: 0.0663 - accuracy: 0.9759 - val_loss: 0.2975 - val_accuracy: 0.9172\n",
      "Epoch 17/20\n",
      "48000/48000 - 16s - loss: 0.0578 - accuracy: 0.9793 - val_loss: 0.3153 - val_accuracy: 0.9176\n",
      "Epoch 18/20\n",
      "48000/48000 - 16s - loss: 0.0535 - accuracy: 0.9813 - val_loss: 0.3455 - val_accuracy: 0.9119\n",
      "Epoch 19/20\n",
      "48000/48000 - 16s - loss: 0.0462 - accuracy: 0.9844 - val_loss: 0.3773 - val_accuracy: 0.9112\n",
      "Epoch 20/20\n",
      "48000/48000 - 16s - loss: 0.0453 - accuracy: 0.9833 - val_loss: 0.3552 - val_accuracy: 0.9165\n",
      "12000/1 - 1s - loss: 0.4908 - accuracy: 0.9165\n",
      "Train on 48000 samples, validate on 12000 samples\n",
      "Epoch 1/20\n",
      "48000/48000 - 16s - loss: 0.4495 - accuracy: 0.8402 - val_loss: 0.3965 - val_accuracy: 0.8505\n",
      "Epoch 2/20\n",
      "48000/48000 - 16s - loss: 0.2988 - accuracy: 0.8914 - val_loss: 0.3273 - val_accuracy: 0.8808\n",
      "Epoch 3/20\n",
      "48000/48000 - 16s - loss: 0.2552 - accuracy: 0.9056 - val_loss: 0.3063 - val_accuracy: 0.8893\n",
      "Epoch 4/20\n",
      "48000/48000 - 16s - loss: 0.2255 - accuracy: 0.9166 - val_loss: 0.2735 - val_accuracy: 0.9012\n",
      "Epoch 5/20\n",
      "48000/48000 - 16s - loss: 0.2028 - accuracy: 0.9253 - val_loss: 0.2692 - val_accuracy: 0.9047\n",
      "Epoch 6/20\n",
      "48000/48000 - 16s - loss: 0.1817 - accuracy: 0.9334 - val_loss: 0.2625 - val_accuracy: 0.9057\n",
      "Epoch 7/20\n",
      "48000/48000 - 16s - loss: 0.1649 - accuracy: 0.9392 - val_loss: 0.2548 - val_accuracy: 0.9112\n",
      "Epoch 8/20\n",
      "48000/48000 - 16s - loss: 0.1482 - accuracy: 0.9464 - val_loss: 0.2675 - val_accuracy: 0.9082\n",
      "Epoch 9/20\n",
      "48000/48000 - 16s - loss: 0.1356 - accuracy: 0.9492 - val_loss: 0.2768 - val_accuracy: 0.9089\n",
      "Epoch 10/20\n",
      "48000/48000 - 16s - loss: 0.1217 - accuracy: 0.9545 - val_loss: 0.2935 - val_accuracy: 0.9092\n",
      "Epoch 11/20\n",
      "48000/48000 - 16s - loss: 0.1112 - accuracy: 0.9586 - val_loss: 0.2942 - val_accuracy: 0.9092\n",
      "Epoch 12/20\n",
      "48000/48000 - 16s - loss: 0.1004 - accuracy: 0.9631 - val_loss: 0.3027 - val_accuracy: 0.9065\n",
      "Epoch 13/20\n",
      "48000/48000 - 16s - loss: 0.0914 - accuracy: 0.9665 - val_loss: 0.3325 - val_accuracy: 0.9071\n",
      "Epoch 14/20\n",
      "48000/48000 - 16s - loss: 0.0818 - accuracy: 0.9703 - val_loss: 0.3323 - val_accuracy: 0.9113\n",
      "Epoch 15/20\n",
      "48000/48000 - 16s - loss: 0.0711 - accuracy: 0.9746 - val_loss: 0.3412 - val_accuracy: 0.9084\n",
      "Epoch 16/20\n",
      "48000/48000 - 16s - loss: 0.0646 - accuracy: 0.9771 - val_loss: 0.3870 - val_accuracy: 0.9078\n",
      "Epoch 17/20\n",
      "48000/48000 - 16s - loss: 0.0581 - accuracy: 0.9798 - val_loss: 0.3518 - val_accuracy: 0.9097\n",
      "Epoch 18/20\n",
      "48000/48000 - 16s - loss: 0.0488 - accuracy: 0.9824 - val_loss: 0.3834 - val_accuracy: 0.9103\n",
      "Epoch 19/20\n",
      "48000/48000 - 16s - loss: 0.0486 - accuracy: 0.9832 - val_loss: 0.3888 - val_accuracy: 0.9085\n",
      "Epoch 20/20\n",
      "48000/48000 - 16s - loss: 0.0410 - accuracy: 0.9857 - val_loss: 0.3956 - val_accuracy: 0.9097\n",
      "12000/1 - 1s - loss: 0.3386 - accuracy: 0.9097\n"
     ]
    }
   ],
   "source": [
    "kfold = KFold(n_splits=5, shuffle=True, random_state=0)\n",
    "accuracies_1 = []\n",
    "fit_history_1 = []\n",
    "for train_index, test_index in kfold.split(x_train_scaled):\n",
    "    X_train, Y_train = x_train_scaled[train_index], y_train[train_index]\n",
    "    X_test, Y_test = x_train_scaled[test_index], y_train[test_index]\n",
    "    model1 = create_model()\n",
    "    hist = model1.fit(X_train, Y_train, epochs=20, validation_data=(X_test, Y_test), verbose=2)\n",
    "    accuracy = model1.evaluate(X_test, Y_test,verbose=2)\n",
    "    accuracies_1.append(accuracy)\n",
    "    fit_history_1.append(hist)"
   ]
  },
  {
   "cell_type": "code",
   "execution_count": 81,
   "metadata": {},
   "outputs": [
    {
     "name": "stdout",
     "output_type": "stream",
     "text": [
      "Model: \"sequential_18\"\n",
      "_________________________________________________________________\n",
      "Layer (type)                 Output Shape              Param #   \n",
      "=================================================================\n",
      "conv2d_18 (Conv2D)           (None, 26, 26, 32)        320       \n",
      "_________________________________________________________________\n",
      "max_pooling2d_18 (MaxPooling (None, 13, 13, 32)        0         \n",
      "_________________________________________________________________\n",
      "flatten_18 (Flatten)         (None, 5408)              0         \n",
      "_________________________________________________________________\n",
      "dense_36 (Dense)             (None, 100)               540900    \n",
      "_________________________________________________________________\n",
      "dense_37 (Dense)             (None, 10)                1010      \n",
      "=================================================================\n",
      "Total params: 542,230\n",
      "Trainable params: 542,230\n",
      "Non-trainable params: 0\n",
      "_________________________________________________________________\n"
     ]
    }
   ],
   "source": [
    "model1.summary()"
   ]
  },
  {
   "cell_type": "code",
   "execution_count": 82,
   "metadata": {
    "colab": {
     "base_uri": "https://localhost:8080/",
     "height": 382
    },
    "colab_type": "code",
    "id": "w_zg8V9EV3Ov",
    "outputId": "5212b91e-6f76-4b75-c861-76e9ae29fee4"
   },
   "outputs": [
    {
     "name": "stderr",
     "output_type": "stream",
     "text": [
      "D:\\ANACONDA\\lib\\site-packages\\ipykernel_launcher.py:3: MatplotlibDeprecationWarning: Adding an axes using the same arguments as a previous axes currently reuses the earlier instance.  In a future version, a new instance will always be created and returned.  Meanwhile, this warning can be suppressed, and the future behavior ensured, by passing a unique label to each axes instance.\n",
      "  This is separate from the ipykernel package so we can avoid doing imports until\n",
      "D:\\ANACONDA\\lib\\site-packages\\ipykernel_launcher.py:10: MatplotlibDeprecationWarning: Adding an axes using the same arguments as a previous axes currently reuses the earlier instance.  In a future version, a new instance will always be created and returned.  Meanwhile, this warning can be suppressed, and the future behavior ensured, by passing a unique label to each axes instance.\n",
      "  # Remove the CWD from sys.path while we load stuff.\n"
     ]
    },
    {
     "data": {
      "image/png": "[encoded data removed]",
      "text/plain": [
       "<Figure size 432x288 with 2 Axes>"
      ]
     },
     "metadata": {
      "needs_background": "light"
     },
     "output_type": "display_data"
    }
   ],
   "source": [
    "plot_summary(fit_history_1)"
   ]
  },
  {
   "cell_type": "markdown",
   "metadata": {
    "colab_type": "text",
    "id": "wchNDpWlhvYg"
   },
   "source": [
    "From the graph above the model looks like it is **overfitted** means the training has been memorized by the model and hence we can observe there is higher training accuracy and lower test accuracies. Also, the training loss is going down whereas the test loss is rising."
   ]
  },
  {
   "cell_type": "markdown",
   "metadata": {
    "colab_type": "text",
    "id": "HDz6TgsNh-ZP"
   },
   "source": [
    ">  **Second Model**\n",
    "\n",
    "> >  Description: This model uses 5 KFOLD cross validation, with 100 epochs,  validation data and drop out method."
   ]
  },
  {
   "cell_type": "code",
   "execution_count": 83,
   "metadata": {
    "colab": {
     "base_uri": "https://localhost:8080/",
     "height": 1000
    },
    "colab_type": "code",
    "id": "gKrv58YWKS_t",
    "outputId": "9264f1cb-647c-409a-97ee-a5736fcc0199",
    "scrolled": false
   },
   "outputs": [
    {
     "name": "stdout",
     "output_type": "stream",
     "text": [
      "Train on 48000 samples, validate on 12000 samples\n",
      "Epoch 1/20\n",
      "48000/48000 - 30s - loss: 0.8041 - accuracy: 0.6979 - val_loss: 0.3973 - val_accuracy: 0.8579\n",
      "Epoch 2/20\n",
      "48000/48000 - 30s - loss: 0.4846 - accuracy: 0.8263 - val_loss: 0.3269 - val_accuracy: 0.8811\n",
      "Epoch 3/20\n",
      "48000/48000 - 30s - loss: 0.4132 - accuracy: 0.8541 - val_loss: 0.3070 - val_accuracy: 0.8890\n",
      "Epoch 4/20\n",
      "48000/48000 - 30s - loss: 0.3726 - accuracy: 0.8649 - val_loss: 0.2932 - val_accuracy: 0.8941\n",
      "Epoch 5/20\n",
      "48000/48000 - 30s - loss: 0.3466 - accuracy: 0.8750 - val_loss: 0.2871 - val_accuracy: 0.8932\n",
      "Epoch 6/20\n",
      "48000/48000 - 29s - loss: 0.3264 - accuracy: 0.8808 - val_loss: 0.2763 - val_accuracy: 0.8976\n",
      "Epoch 7/20\n",
      "48000/48000 - 30s - loss: 0.3127 - accuracy: 0.8866 - val_loss: 0.2711 - val_accuracy: 0.9022\n",
      "Epoch 8/20\n",
      "48000/48000 - 31s - loss: 0.2993 - accuracy: 0.8895 - val_loss: 0.2622 - val_accuracy: 0.9025\n",
      "Epoch 9/20\n",
      "48000/48000 - 30s - loss: 0.2861 - accuracy: 0.8946 - val_loss: 0.2663 - val_accuracy: 0.9041\n",
      "Epoch 10/20\n",
      "48000/48000 - 30s - loss: 0.2744 - accuracy: 0.8970 - val_loss: 0.2572 - val_accuracy: 0.9092\n",
      "Epoch 11/20\n",
      "48000/48000 - 30s - loss: 0.2677 - accuracy: 0.8998 - val_loss: 0.2586 - val_accuracy: 0.9057\n",
      "Epoch 12/20\n",
      "48000/48000 - 30s - loss: 0.2631 - accuracy: 0.9024 - val_loss: 0.2661 - val_accuracy: 0.9026\n",
      "Epoch 13/20\n",
      "48000/48000 - 29s - loss: 0.2552 - accuracy: 0.9025 - val_loss: 0.2581 - val_accuracy: 0.9027\n",
      "Epoch 14/20\n",
      "48000/48000 - 30s - loss: 0.2460 - accuracy: 0.9061 - val_loss: 0.2481 - val_accuracy: 0.9104\n",
      "Epoch 15/20\n",
      "48000/48000 - 30s - loss: 0.2438 - accuracy: 0.9081 - val_loss: 0.2541 - val_accuracy: 0.9104\n",
      "Epoch 16/20\n",
      "48000/48000 - 30s - loss: 0.2367 - accuracy: 0.9113 - val_loss: 0.2536 - val_accuracy: 0.9115\n",
      "Epoch 17/20\n",
      "48000/48000 - 30s - loss: 0.2335 - accuracy: 0.9112 - val_loss: 0.2499 - val_accuracy: 0.9097\n",
      "Epoch 18/20\n",
      "48000/48000 - 30s - loss: 0.2280 - accuracy: 0.9137 - val_loss: 0.2421 - val_accuracy: 0.9130\n",
      "Epoch 19/20\n",
      "48000/48000 - 30s - loss: 0.2255 - accuracy: 0.9143 - val_loss: 0.2537 - val_accuracy: 0.9117\n",
      "Epoch 20/20\n",
      "48000/48000 - 30s - loss: 0.2173 - accuracy: 0.9160 - val_loss: 0.2624 - val_accuracy: 0.9062\n",
      "12000/1 - 2s - loss: 0.1831 - accuracy: 0.9062\n",
      "Train on 48000 samples, validate on 12000 samples\n",
      "Epoch 1/20\n",
      "48000/48000 - 30s - loss: 0.7092 - accuracy: 0.7333 - val_loss: 0.3937 - val_accuracy: 0.8611\n",
      "Epoch 2/20\n",
      "48000/48000 - 30s - loss: 0.4550 - accuracy: 0.8379 - val_loss: 0.3267 - val_accuracy: 0.8783\n",
      "Epoch 3/20\n",
      "48000/48000 - 30s - loss: 0.3856 - accuracy: 0.8614 - val_loss: 0.3041 - val_accuracy: 0.8893\n",
      "Epoch 4/20\n",
      "48000/48000 - 29s - loss: 0.3567 - accuracy: 0.8701 - val_loss: 0.3005 - val_accuracy: 0.8842\n",
      "Epoch 5/20\n",
      "48000/48000 - 30s - loss: 0.3314 - accuracy: 0.8800 - val_loss: 0.2721 - val_accuracy: 0.9013\n",
      "Epoch 6/20\n",
      "48000/48000 - 29s - loss: 0.3146 - accuracy: 0.8852 - val_loss: 0.2694 - val_accuracy: 0.8995\n",
      "Epoch 7/20\n",
      "48000/48000 - 29s - loss: 0.2988 - accuracy: 0.8898 - val_loss: 0.2670 - val_accuracy: 0.9024\n",
      "Epoch 8/20\n",
      "48000/48000 - 30s - loss: 0.2898 - accuracy: 0.8925 - val_loss: 0.2586 - val_accuracy: 0.9055\n",
      "Epoch 9/20\n",
      "48000/48000 - 30s - loss: 0.2812 - accuracy: 0.8959 - val_loss: 0.2628 - val_accuracy: 0.9052\n",
      "Epoch 10/20\n",
      "48000/48000 - 30s - loss: 0.2711 - accuracy: 0.8988 - val_loss: 0.2641 - val_accuracy: 0.9050\n",
      "Epoch 11/20\n",
      "48000/48000 - 30s - loss: 0.2626 - accuracy: 0.9009 - val_loss: 0.2571 - val_accuracy: 0.9074\n",
      "Epoch 12/20\n",
      "48000/48000 - 30s - loss: 0.2546 - accuracy: 0.9045 - val_loss: 0.2524 - val_accuracy: 0.9083\n",
      "Epoch 13/20\n",
      "48000/48000 - 29s - loss: 0.2473 - accuracy: 0.9051 - val_loss: 0.2585 - val_accuracy: 0.9077\n",
      "Epoch 14/20\n",
      "48000/48000 - 30s - loss: 0.2445 - accuracy: 0.9080 - val_loss: 0.2580 - val_accuracy: 0.9117\n",
      "Epoch 15/20\n",
      "48000/48000 - 30s - loss: 0.2359 - accuracy: 0.9094 - val_loss: 0.2557 - val_accuracy: 0.9075\n",
      "Epoch 16/20\n",
      "48000/48000 - 30s - loss: 0.2335 - accuracy: 0.9103 - val_loss: 0.2540 - val_accuracy: 0.9103\n",
      "Epoch 17/20\n",
      "48000/48000 - 29s - loss: 0.2287 - accuracy: 0.9129 - val_loss: 0.2566 - val_accuracy: 0.9114\n",
      "Epoch 18/20\n",
      "48000/48000 - 30s - loss: 0.2187 - accuracy: 0.9172 - val_loss: 0.2553 - val_accuracy: 0.9126\n",
      "Epoch 19/20\n",
      "48000/48000 - 29s - loss: 0.2198 - accuracy: 0.9149 - val_loss: 0.2594 - val_accuracy: 0.9107\n",
      "Epoch 20/20\n",
      "48000/48000 - 30s - loss: 0.2149 - accuracy: 0.9176 - val_loss: 0.2508 - val_accuracy: 0.9114\n",
      "12000/1 - 2s - loss: 0.1766 - accuracy: 0.9114\n",
      "Train on 48000 samples, validate on 12000 samples\n",
      "Epoch 1/20\n",
      "48000/48000 - 30s - loss: 0.7578 - accuracy: 0.7157 - val_loss: 0.3612 - val_accuracy: 0.8723\n",
      "Epoch 2/20\n",
      "48000/48000 - 29s - loss: 0.4773 - accuracy: 0.8297 - val_loss: 0.3242 - val_accuracy: 0.8809\n",
      "Epoch 3/20\n",
      "48000/48000 - 30s - loss: 0.4052 - accuracy: 0.8551 - val_loss: 0.3028 - val_accuracy: 0.8908\n",
      "Epoch 4/20\n",
      "48000/48000 - 30s - loss: 0.3692 - accuracy: 0.8660 - val_loss: 0.2778 - val_accuracy: 0.8988\n",
      "Epoch 5/20\n",
      "48000/48000 - 30s - loss: 0.3453 - accuracy: 0.8740 - val_loss: 0.2882 - val_accuracy: 0.8908\n",
      "Epoch 6/20\n",
      "48000/48000 - 30s - loss: 0.3265 - accuracy: 0.8797 - val_loss: 0.2674 - val_accuracy: 0.9022\n",
      "Epoch 7/20\n",
      "48000/48000 - 30s - loss: 0.3162 - accuracy: 0.8837 - val_loss: 0.2581 - val_accuracy: 0.9061\n",
      "Epoch 8/20\n",
      "48000/48000 - 30s - loss: 0.2990 - accuracy: 0.8895 - val_loss: 0.2636 - val_accuracy: 0.9049\n",
      "Epoch 9/20\n",
      "48000/48000 - 30s - loss: 0.2919 - accuracy: 0.8913 - val_loss: 0.2497 - val_accuracy: 0.9080\n",
      "Epoch 10/20\n",
      "48000/48000 - 30s - loss: 0.2775 - accuracy: 0.8948 - val_loss: 0.2558 - val_accuracy: 0.9079\n",
      "Epoch 11/20\n",
      "48000/48000 - 30s - loss: 0.2746 - accuracy: 0.8976 - val_loss: 0.2497 - val_accuracy: 0.9088\n",
      "Epoch 12/20\n",
      "48000/48000 - 30s - loss: 0.2634 - accuracy: 0.9009 - val_loss: 0.2539 - val_accuracy: 0.9068\n",
      "Epoch 13/20\n",
      "48000/48000 - 30s - loss: 0.2566 - accuracy: 0.9019 - val_loss: 0.2497 - val_accuracy: 0.9112\n",
      "Epoch 14/20\n",
      "48000/48000 - 30s - loss: 0.2539 - accuracy: 0.9037 - val_loss: 0.2459 - val_accuracy: 0.9136\n",
      "Epoch 15/20\n",
      "48000/48000 - 30s - loss: 0.2466 - accuracy: 0.9046 - val_loss: 0.2514 - val_accuracy: 0.9103\n",
      "Epoch 16/20\n",
      "48000/48000 - 30s - loss: 0.2403 - accuracy: 0.9079 - val_loss: 0.2574 - val_accuracy: 0.9083\n",
      "Epoch 17/20\n",
      "48000/48000 - 30s - loss: 0.2355 - accuracy: 0.9096 - val_loss: 0.2495 - val_accuracy: 0.9112\n",
      "Epoch 18/20\n",
      "48000/48000 - 30s - loss: 0.2294 - accuracy: 0.9120 - val_loss: 0.2494 - val_accuracy: 0.9120\n",
      "Epoch 19/20\n",
      "48000/48000 - 30s - loss: 0.2236 - accuracy: 0.9146 - val_loss: 0.2658 - val_accuracy: 0.9094\n",
      "Epoch 20/20\n",
      "48000/48000 - 30s - loss: 0.2254 - accuracy: 0.9150 - val_loss: 0.2531 - val_accuracy: 0.9122\n",
      "12000/1 - 2s - loss: 0.2577 - accuracy: 0.9122\n",
      "Train on 48000 samples, validate on 12000 samples\n",
      "Epoch 1/20\n",
      "48000/48000 - 30s - loss: 0.7667 - accuracy: 0.7146 - val_loss: 0.3749 - val_accuracy: 0.8671\n",
      "Epoch 2/20\n",
      "48000/48000 - 30s - loss: 0.4926 - accuracy: 0.8228 - val_loss: 0.3398 - val_accuracy: 0.8733\n",
      "Epoch 3/20\n",
      "48000/48000 - 30s - loss: 0.4269 - accuracy: 0.8462 - val_loss: 0.3119 - val_accuracy: 0.8881\n",
      "Epoch 4/20\n",
      "48000/48000 - 30s - loss: 0.3866 - accuracy: 0.8602 - val_loss: 0.2872 - val_accuracy: 0.8966\n",
      "Epoch 5/20\n",
      "48000/48000 - 30s - loss: 0.3644 - accuracy: 0.8662 - val_loss: 0.2797 - val_accuracy: 0.9006\n",
      "Epoch 6/20\n",
      "48000/48000 - 30s - loss: 0.3412 - accuracy: 0.8757 - val_loss: 0.2790 - val_accuracy: 0.8981\n",
      "Epoch 7/20\n",
      "48000/48000 - 30s - loss: 0.3264 - accuracy: 0.8793 - val_loss: 0.2810 - val_accuracy: 0.8967\n",
      "Epoch 8/20\n",
      "48000/48000 - 30s - loss: 0.3114 - accuracy: 0.8840 - val_loss: 0.2624 - val_accuracy: 0.9054\n",
      "Epoch 9/20\n",
      "48000/48000 - 30s - loss: 0.3023 - accuracy: 0.8860 - val_loss: 0.2674 - val_accuracy: 0.9037\n",
      "Epoch 10/20\n",
      "48000/48000 - 30s - loss: 0.2890 - accuracy: 0.8923 - val_loss: 0.2594 - val_accuracy: 0.9087\n",
      "Epoch 11/20\n",
      "48000/48000 - 30s - loss: 0.2803 - accuracy: 0.8953 - val_loss: 0.2580 - val_accuracy: 0.9084\n",
      "Epoch 12/20\n",
      "48000/48000 - 30s - loss: 0.2752 - accuracy: 0.8960 - val_loss: 0.2587 - val_accuracy: 0.9089\n",
      "Epoch 13/20\n",
      "48000/48000 - 31s - loss: 0.2669 - accuracy: 0.8990 - val_loss: 0.2596 - val_accuracy: 0.9094\n",
      "Epoch 14/20\n",
      "48000/48000 - 30s - loss: 0.2588 - accuracy: 0.9013 - val_loss: 0.2564 - val_accuracy: 0.9133\n",
      "Epoch 15/20\n",
      "48000/48000 - 30s - loss: 0.2509 - accuracy: 0.9041 - val_loss: 0.2547 - val_accuracy: 0.9124\n"
     ]
    },
    {
     "name": "stdout",
     "output_type": "stream",
     "text": [
      "Epoch 16/20\n",
      "48000/48000 - 31s - loss: 0.2457 - accuracy: 0.9063 - val_loss: 0.2578 - val_accuracy: 0.9113\n",
      "Epoch 17/20\n",
      "48000/48000 - 30s - loss: 0.2450 - accuracy: 0.9066 - val_loss: 0.2568 - val_accuracy: 0.9104\n",
      "Epoch 18/20\n",
      "48000/48000 - 30s - loss: 0.2358 - accuracy: 0.9087 - val_loss: 0.2635 - val_accuracy: 0.9080\n",
      "Epoch 19/20\n",
      "48000/48000 - 30s - loss: 0.2330 - accuracy: 0.9100 - val_loss: 0.2566 - val_accuracy: 0.9150\n",
      "Epoch 20/20\n",
      "48000/48000 - 30s - loss: 0.2329 - accuracy: 0.9097 - val_loss: 0.2615 - val_accuracy: 0.9104\n",
      "12000/1 - 2s - loss: 0.2642 - accuracy: 0.9104\n",
      "Train on 48000 samples, validate on 12000 samples\n",
      "Epoch 1/20\n",
      "48000/48000 - 31s - loss: 0.7417 - accuracy: 0.7271 - val_loss: 0.3932 - val_accuracy: 0.8558\n",
      "Epoch 2/20\n",
      "48000/48000 - 30s - loss: 0.4606 - accuracy: 0.8346 - val_loss: 0.3467 - val_accuracy: 0.8712\n",
      "Epoch 3/20\n",
      "48000/48000 - 30s - loss: 0.3959 - accuracy: 0.8594 - val_loss: 0.3245 - val_accuracy: 0.8774\n",
      "Epoch 4/20\n",
      "48000/48000 - 30s - loss: 0.3644 - accuracy: 0.8684 - val_loss: 0.3070 - val_accuracy: 0.8849\n",
      "Epoch 5/20\n",
      "48000/48000 - 30s - loss: 0.3408 - accuracy: 0.8749 - val_loss: 0.2856 - val_accuracy: 0.8947\n",
      "Epoch 6/20\n",
      "48000/48000 - 30s - loss: 0.3224 - accuracy: 0.8802 - val_loss: 0.3050 - val_accuracy: 0.8882\n",
      "Epoch 7/20\n",
      "48000/48000 - 30s - loss: 0.3081 - accuracy: 0.8863 - val_loss: 0.2847 - val_accuracy: 0.8958\n",
      "Epoch 8/20\n",
      "48000/48000 - 30s - loss: 0.2975 - accuracy: 0.8895 - val_loss: 0.2776 - val_accuracy: 0.8995\n",
      "Epoch 9/20\n",
      "48000/48000 - 30s - loss: 0.2841 - accuracy: 0.8940 - val_loss: 0.2620 - val_accuracy: 0.9013\n",
      "Epoch 10/20\n",
      "48000/48000 - 30s - loss: 0.2749 - accuracy: 0.8977 - val_loss: 0.2582 - val_accuracy: 0.9052\n",
      "Epoch 11/20\n",
      "48000/48000 - 30s - loss: 0.2685 - accuracy: 0.8987 - val_loss: 0.2629 - val_accuracy: 0.9015\n",
      "Epoch 12/20\n",
      "48000/48000 - 30s - loss: 0.2600 - accuracy: 0.9025 - val_loss: 0.2608 - val_accuracy: 0.9054\n",
      "Epoch 13/20\n",
      "48000/48000 - 30s - loss: 0.2538 - accuracy: 0.9046 - val_loss: 0.2625 - val_accuracy: 0.9053\n",
      "Epoch 14/20\n",
      "48000/48000 - 30s - loss: 0.2481 - accuracy: 0.9065 - val_loss: 0.2624 - val_accuracy: 0.9043\n",
      "Epoch 15/20\n",
      "48000/48000 - 30s - loss: 0.2417 - accuracy: 0.9084 - val_loss: 0.2707 - val_accuracy: 0.9043\n",
      "Epoch 16/20\n",
      "48000/48000 - 30s - loss: 0.2385 - accuracy: 0.9088 - val_loss: 0.2876 - val_accuracy: 0.9034\n",
      "Epoch 17/20\n",
      "48000/48000 - 30s - loss: 0.2301 - accuracy: 0.9137 - val_loss: 0.2712 - val_accuracy: 0.9081\n",
      "Epoch 18/20\n",
      "48000/48000 - 30s - loss: 0.2300 - accuracy: 0.9124 - val_loss: 0.2636 - val_accuracy: 0.9056\n",
      "Epoch 19/20\n",
      "48000/48000 - 30s - loss: 0.2247 - accuracy: 0.9152 - val_loss: 0.2581 - val_accuracy: 0.9078\n",
      "Epoch 20/20\n",
      "48000/48000 - 30s - loss: 0.2186 - accuracy: 0.9158 - val_loss: 0.2669 - val_accuracy: 0.9070\n",
      "12000/1 - 2s - loss: 0.2172 - accuracy: 0.9070\n"
     ]
    }
   ],
   "source": [
    "kfold = KFold(n_splits=5, shuffle=True, random_state=0)\n",
    "accuracies_2 = []\n",
    "fit_history_2 = []\n",
    "for train_index, test_index in kfold.split(x_train_scaled):\n",
    "    X_train, Y_train = x_train_scaled[train_index], y_train[train_index]\n",
    "    X_test, Y_test = x_train_scaled[test_index], y_train[test_index]\n",
    "    model2 = create_model_dropout()\n",
    "    hist = model2.fit(X_train, Y_train, epochs=20, validation_data=(X_test, Y_test), verbose=2)\n",
    "    accuracy = model2.evaluate(X_test, Y_test,verbose=2)\n",
    "    accuracies_2.append(accuracy)\n",
    "    fit_history_2.append(hist)"
   ]
  },
  {
   "cell_type": "code",
   "execution_count": 84,
   "metadata": {},
   "outputs": [
    {
     "name": "stdout",
     "output_type": "stream",
     "text": [
      "Model: \"sequential_23\"\n",
      "_________________________________________________________________\n",
      "Layer (type)                 Output Shape              Param #   \n",
      "=================================================================\n",
      "conv2d_23 (Conv2D)           (None, 26, 26, 64)        640       \n",
      "_________________________________________________________________\n",
      "max_pooling2d_23 (MaxPooling (None, 13, 13, 64)        0         \n",
      "_________________________________________________________________\n",
      "dropout_22 (Dropout)         (None, 13, 13, 64)        0         \n",
      "_________________________________________________________________\n",
      "flatten_23 (Flatten)         (None, 10816)             0         \n",
      "_________________________________________________________________\n",
      "dense_46 (Dense)             (None, 100)               1081700   \n",
      "_________________________________________________________________\n",
      "dropout_23 (Dropout)         (None, 100)               0         \n",
      "_________________________________________________________________\n",
      "dense_47 (Dense)             (None, 10)                1010      \n",
      "=================================================================\n",
      "Total params: 1,083,350\n",
      "Trainable params: 1,083,350\n",
      "Non-trainable params: 0\n",
      "_________________________________________________________________\n"
     ]
    }
   ],
   "source": [
    "model2.summary()"
   ]
  },
  {
   "cell_type": "code",
   "execution_count": 85,
   "metadata": {
    "colab": {
     "base_uri": "https://localhost:8080/",
     "height": 382
    },
    "colab_type": "code",
    "id": "SbtUEUcTeWZP",
    "outputId": "b6bc8a11-a76e-48f9-d7fd-ae9ed958577c"
   },
   "outputs": [
    {
     "name": "stderr",
     "output_type": "stream",
     "text": [
      "D:\\ANACONDA\\lib\\site-packages\\ipykernel_launcher.py:3: MatplotlibDeprecationWarning: Adding an axes using the same arguments as a previous axes currently reuses the earlier instance.  In a future version, a new instance will always be created and returned.  Meanwhile, this warning can be suppressed, and the future behavior ensured, by passing a unique label to each axes instance.\n",
      "  This is separate from the ipykernel package so we can avoid doing imports until\n",
      "D:\\ANACONDA\\lib\\site-packages\\ipykernel_launcher.py:10: MatplotlibDeprecationWarning: Adding an axes using the same arguments as a previous axes currently reuses the earlier instance.  In a future version, a new instance will always be created and returned.  Meanwhile, this warning can be suppressed, and the future behavior ensured, by passing a unique label to each axes instance.\n",
      "  # Remove the CWD from sys.path while we load stuff.\n"
     ]
    },
    {
     "data": {
      "image/png": "[encoded data removed]",
      "text/plain": [
       "<Figure size 432x288 with 2 Axes>"
      ]
     },
     "metadata": {
      "needs_background": "light"
     },
     "output_type": "display_data"
    }
   ],
   "source": [
    "plot_summary(fit_history_2)"
   ]
  },
  {
   "cell_type": "markdown",
   "metadata": {
    "colab_type": "text",
    "id": "ce6Adk9siWoQ"
   },
   "source": [
    "From the above graph we can observe both the training and validation accuracies are almost the same indicating a good fit. Also the model loss for both train and validation set are both decreasing along the number of epochs. For Accuracy around 18 epoch is same for both train and validation set. As of now this model looks to be good option. Let's find how the other model work out. "
   ]
  },
  {
   "cell_type": "markdown",
   "metadata": {
    "colab_type": "text",
    "id": "Bf9BuzCde5Rg"
   },
   "source": [
    "**Early stoping**\n",
    "\n",
    "> > To prevent overfitting, the early stop function is defined and is used below:"
   ]
  },
  {
   "cell_type": "code",
   "execution_count": 86,
   "metadata": {
    "colab": {},
    "colab_type": "code",
    "id": "NTyDURCEe53S"
   },
   "outputs": [],
   "source": [
    "earlystop = EarlyStopping(mode='min',verbose=1)"
   ]
  },
  {
   "cell_type": "markdown",
   "metadata": {
    "colab_type": "text",
    "id": "wS62urz8i9mb"
   },
   "source": [
    "> **Third Model**\n",
    "\n",
    "> >  Description: This model uses cross validation, with 1000 epochs,  validation data and includes early stopping criteria.\n"
   ]
  },
  {
   "cell_type": "code",
   "execution_count": 87,
   "metadata": {
    "colab": {
     "base_uri": "https://localhost:8080/",
     "height": 151
    },
    "colab_type": "code",
    "id": "KJ5ggKI9KYdN",
    "outputId": "a3b102d6-f5c4-4af2-8f45-19381255f7c1"
   },
   "outputs": [
    {
     "name": "stdout",
     "output_type": "stream",
     "text": [
      "Train on 48000 samples, validate on 12000 samples\n",
      "Epoch 1/1000\n",
      "48000/48000 - 17s - loss: 0.4459 - accuracy: 0.8386 - val_loss: 0.3244 - val_accuracy: 0.8852\n",
      "Epoch 2/1000\n",
      "48000/48000 - 16s - loss: 0.2959 - accuracy: 0.8914 - val_loss: 0.3258 - val_accuracy: 0.8853\n",
      "Epoch 00002: early stopping\n",
      "12000/1 - 1s - loss: 0.2629 - accuracy: 0.8853\n"
     ]
    }
   ],
   "source": [
    "train_X, test_X, train_Y, test_Y = train_test_split(x_train_scaled,y_train, test_size=0.2,random_state=0)\n",
    "accuracies_3 = []\n",
    "fit_history_3 = []\n",
    "model3 = create_model()\n",
    "hist = model3.fit(train_X, train_Y, epochs=1000, callbacks=[earlystop], validation_data=(test_X, test_Y), verbose=2)\n",
    "accuracy = model3.evaluate(test_X, test_Y,verbose=2)\n",
    "accuracies_3.append(accuracy)\n",
    "fit_history_3.append(hist)"
   ]
  },
  {
   "cell_type": "code",
   "execution_count": 88,
   "metadata": {},
   "outputs": [
    {
     "name": "stdout",
     "output_type": "stream",
     "text": [
      "Model: \"sequential_24\"\n",
      "_________________________________________________________________\n",
      "Layer (type)                 Output Shape              Param #   \n",
      "=================================================================\n",
      "conv2d_24 (Conv2D)           (None, 26, 26, 32)        320       \n",
      "_________________________________________________________________\n",
      "max_pooling2d_24 (MaxPooling (None, 13, 13, 32)        0         \n",
      "_________________________________________________________________\n",
      "flatten_24 (Flatten)         (None, 5408)              0         \n",
      "_________________________________________________________________\n",
      "dense_48 (Dense)             (None, 100)               540900    \n",
      "_________________________________________________________________\n",
      "dense_49 (Dense)             (None, 10)                1010      \n",
      "=================================================================\n",
      "Total params: 542,230\n",
      "Trainable params: 542,230\n",
      "Non-trainable params: 0\n",
      "_________________________________________________________________\n"
     ]
    }
   ],
   "source": [
    "model3.summary()"
   ]
  },
  {
   "cell_type": "code",
   "execution_count": 89,
   "metadata": {
    "colab": {
     "base_uri": "https://localhost:8080/",
     "height": 295
    },
    "colab_type": "code",
    "id": "0s8rVzrxgqxJ",
    "outputId": "ed89fb16-fe04-44fc-d23f-ebc3240f52c8"
   },
   "outputs": [
    {
     "data": {
      "image/png": "[encoded data removed]",
      "text/plain": [
       "<Figure size 432x288 with 2 Axes>"
      ]
     },
     "metadata": {
      "needs_background": "light"
     },
     "output_type": "display_data"
    }
   ],
   "source": [
    "plot_summary(fit_history_3)"
   ]
  },
  {
   "cell_type": "markdown",
   "metadata": {
    "colab_type": "text",
    "id": "KZePU9gbjIzB"
   },
   "source": [
    "From the above graph this model works good at 10 epochs but fails to perform well during the other epochs. After 10 epochs the training accuracy increases but the test accuracies decreases indicating the model is getting over fitted. Same is the case model loss."
   ]
  },
  {
   "cell_type": "markdown",
   "metadata": {
    "colab_type": "text",
    "id": "y98kylcCjUDq"
   },
   "source": [
    "> **Fourth Model**\n",
    "\n",
    "> >  Description: This model uses cross validation, with 1000 epochs,  validation data, includes early stopping criteria and also dropout method."
   ]
  },
  {
   "cell_type": "code",
   "execution_count": 90,
   "metadata": {
    "colab": {
     "base_uri": "https://localhost:8080/",
     "height": 286
    },
    "colab_type": "code",
    "id": "Fk9yLtRhQQqS",
    "outputId": "01b70a64-b44d-47e4-d731-ca7dc062d0f1"
   },
   "outputs": [
    {
     "name": "stdout",
     "output_type": "stream",
     "text": [
      "Train on 48000 samples, validate on 12000 samples\n",
      "Epoch 1/1000\n",
      "48000/48000 - 30s - loss: 0.7826 - accuracy: 0.7074 - val_loss: 0.3966 - val_accuracy: 0.8538\n",
      "Epoch 2/1000\n",
      "48000/48000 - 29s - loss: 0.4821 - accuracy: 0.8304 - val_loss: 0.3391 - val_accuracy: 0.8708\n",
      "Epoch 3/1000\n",
      "48000/48000 - 29s - loss: 0.4059 - accuracy: 0.8529 - val_loss: 0.3036 - val_accuracy: 0.8882\n",
      "Epoch 4/1000\n",
      "48000/48000 - 29s - loss: 0.3710 - accuracy: 0.8657 - val_loss: 0.2987 - val_accuracy: 0.8878\n",
      "Epoch 5/1000\n",
      "48000/48000 - 29s - loss: 0.3472 - accuracy: 0.8739 - val_loss: 0.2848 - val_accuracy: 0.8945\n",
      "Epoch 6/1000\n",
      "48000/48000 - 30s - loss: 0.3237 - accuracy: 0.8805 - val_loss: 0.2805 - val_accuracy: 0.8975\n",
      "Epoch 7/1000\n",
      "48000/48000 - 29s - loss: 0.3100 - accuracy: 0.8850 - val_loss: 0.2836 - val_accuracy: 0.8951\n",
      "Epoch 00007: early stopping\n",
      "12000/1 - 2s - loss: 0.3474 - accuracy: 0.8951\n"
     ]
    }
   ],
   "source": [
    "train_X, test_X, train_Y, test_Y = train_test_split(x_train_scaled,y_train, test_size=0.2,random_state=0)\n",
    "accuracies_4 = []\n",
    "fit_history_4 = []\n",
    "model4 = create_model_dropout()\n",
    "hist = model4.fit(train_X, train_Y, epochs=1000, callbacks=[earlystop], validation_data=(test_X, test_Y), verbose=2)\n",
    "accuracy = model4.evaluate(test_X, test_Y,verbose=2)\n",
    "accuracies_4.append(accuracy)\n",
    "fit_history_4.append(hist)"
   ]
  },
  {
   "cell_type": "code",
   "execution_count": 91,
   "metadata": {},
   "outputs": [
    {
     "name": "stdout",
     "output_type": "stream",
     "text": [
      "Model: \"sequential_25\"\n",
      "_________________________________________________________________\n",
      "Layer (type)                 Output Shape              Param #   \n",
      "=================================================================\n",
      "conv2d_25 (Conv2D)           (None, 26, 26, 64)        640       \n",
      "_________________________________________________________________\n",
      "max_pooling2d_25 (MaxPooling (None, 13, 13, 64)        0         \n",
      "_________________________________________________________________\n",
      "dropout_24 (Dropout)         (None, 13, 13, 64)        0         \n",
      "_________________________________________________________________\n",
      "flatten_25 (Flatten)         (None, 10816)             0         \n",
      "_________________________________________________________________\n",
      "dense_50 (Dense)             (None, 100)               1081700   \n",
      "_________________________________________________________________\n",
      "dropout_25 (Dropout)         (None, 100)               0         \n",
      "_________________________________________________________________\n",
      "dense_51 (Dense)             (None, 10)                1010      \n",
      "=================================================================\n",
      "Total params: 1,083,350\n",
      "Trainable params: 1,083,350\n",
      "Non-trainable params: 0\n",
      "_________________________________________________________________\n"
     ]
    }
   ],
   "source": [
    "model4.summary()"
   ]
  },
  {
   "cell_type": "code",
   "execution_count": 92,
   "metadata": {
    "colab": {
     "base_uri": "https://localhost:8080/",
     "height": 295
    },
    "colab_type": "code",
    "id": "KT501nZOgvpe",
    "outputId": "c90cbb21-efcd-4e51-ef76-b99d75145dab"
   },
   "outputs": [
    {
     "data": {
      "image/png": "[encoded data removed]",
      "text/plain": [
       "<Figure size 432x288 with 2 Axes>"
      ]
     },
     "metadata": {
      "needs_background": "light"
     },
     "output_type": "display_data"
    }
   ],
   "source": [
    "plot_summary(fit_history_4)"
   ]
  },
  {
   "cell_type": "markdown",
   "metadata": {
    "colab_type": "text",
    "id": "1a_dfF8ekKE7"
   },
   "source": [
    "From the above graph the model looks good fit since both the loss and accuracies seems to go hand in hand for both training and validation data.\n",
    "\n",
    "Comparing the model 2 and 4, The Model 2 comes out to be the best among all the four models so moving forward the final phase is to train the model 2 on complete training set and evaluate on the testing data."
   ]
  },
  {
   "cell_type": "code",
   "execution_count": 93,
   "metadata": {
    "colab": {
     "base_uri": "https://localhost:8080/",
     "height": 706
    },
    "colab_type": "code",
    "id": "SuRr39RdRoVh",
    "outputId": "79c6473c-2fa9-4665-96b5-67cebadef5ee"
   },
   "outputs": [
    {
     "name": "stdout",
     "output_type": "stream",
     "text": [
      "Train on 60000 samples\n",
      "Epoch 1/20\n",
      "60000/60000 - 36s - loss: 0.7709 - accuracy: 0.7155\n",
      "Epoch 2/20\n",
      "60000/60000 - 35s - loss: 0.4897 - accuracy: 0.8245\n",
      "Epoch 3/20\n",
      "60000/60000 - 35s - loss: 0.4153 - accuracy: 0.8529\n",
      "Epoch 4/20\n",
      "60000/60000 - 35s - loss: 0.3761 - accuracy: 0.8659\n",
      "Epoch 5/20\n",
      "60000/60000 - 35s - loss: 0.3547 - accuracy: 0.8713\n",
      "Epoch 6/20\n",
      "60000/60000 - 35s - loss: 0.3314 - accuracy: 0.8793\n",
      "Epoch 7/20\n",
      "60000/60000 - 35s - loss: 0.3210 - accuracy: 0.8823\n",
      "Epoch 8/20\n",
      "60000/60000 - 35s - loss: 0.3070 - accuracy: 0.8874\n",
      "Epoch 9/20\n",
      "60000/60000 - 35s - loss: 0.2961 - accuracy: 0.8897\n",
      "Epoch 10/20\n",
      "60000/60000 - 35s - loss: 0.2859 - accuracy: 0.8935\n",
      "Epoch 11/20\n",
      "60000/60000 - 35s - loss: 0.2784 - accuracy: 0.8958\n",
      "Epoch 12/20\n",
      "60000/60000 - 35s - loss: 0.2720 - accuracy: 0.8972\n",
      "Epoch 13/20\n",
      "60000/60000 - 35s - loss: 0.2627 - accuracy: 0.9020\n",
      "Epoch 14/20\n",
      "60000/60000 - 35s - loss: 0.2583 - accuracy: 0.9030\n",
      "Epoch 15/20\n",
      "60000/60000 - 35s - loss: 0.2498 - accuracy: 0.9055\n",
      "Epoch 16/20\n",
      "60000/60000 - 35s - loss: 0.2442 - accuracy: 0.9073\n",
      "Epoch 17/20\n",
      "60000/60000 - 35s - loss: 0.2396 - accuracy: 0.9087\n",
      "Epoch 18/20\n",
      "60000/60000 - 35s - loss: 0.2347 - accuracy: 0.9119\n",
      "Epoch 19/20\n",
      "60000/60000 - 35s - loss: 0.2321 - accuracy: 0.9119\n",
      "Epoch 20/20\n",
      "60000/60000 - 35s - loss: 0.2287 - accuracy: 0.9118\n",
      "10000/1 - 2s - loss: 0.1850 - accuracy: 0.9087\n"
     ]
    }
   ],
   "source": [
    "model_final = create_model_dropout()\n",
    "hist_final = model.fit(x_train_scaled, y_train, epochs=20, verbose=2)\n",
    "accuracy_final = model.evaluate(x_test_scaled, y_test,verbose=2)"
   ]
  },
  {
   "cell_type": "code",
   "execution_count": 94,
   "metadata": {},
   "outputs": [
    {
     "name": "stdout",
     "output_type": "stream",
     "text": [
      "Model: \"sequential_26\"\n",
      "_________________________________________________________________\n",
      "Layer (type)                 Output Shape              Param #   \n",
      "=================================================================\n",
      "conv2d_26 (Conv2D)           (None, 26, 26, 64)        640       \n",
      "_________________________________________________________________\n",
      "max_pooling2d_26 (MaxPooling (None, 13, 13, 64)        0         \n",
      "_________________________________________________________________\n",
      "dropout_26 (Dropout)         (None, 13, 13, 64)        0         \n",
      "_________________________________________________________________\n",
      "flatten_26 (Flatten)         (None, 10816)             0         \n",
      "_________________________________________________________________\n",
      "dense_52 (Dense)             (None, 100)               1081700   \n",
      "_________________________________________________________________\n",
      "dropout_27 (Dropout)         (None, 100)               0         \n",
      "_________________________________________________________________\n",
      "dense_53 (Dense)             (None, 10)                1010      \n",
      "=================================================================\n",
      "Total params: 1,083,350\n",
      "Trainable params: 1,083,350\n",
      "Non-trainable params: 0\n",
      "_________________________________________________________________\n"
     ]
    }
   ],
   "source": [
    "model_final.summary()"
   ]
  },
  {
   "cell_type": "code",
   "execution_count": 95,
   "metadata": {
    "colab": {
     "base_uri": "https://localhost:8080/",
     "height": 34
    },
    "colab_type": "code",
    "id": "3e2BLMerhYk5",
    "outputId": "ccea528f-96fe-46d5-fd88-cf2a4a18dbc0"
   },
   "outputs": [
    {
     "name": "stdout",
     "output_type": "stream",
     "text": [
      "The Test accuracy of the model is found to be: 90.86999893188477\n"
     ]
    }
   ],
   "source": [
    "print(\"The Test accuracy of the model is found to be:\", accuracy_final[1]*100)"
   ]
  },
  {
   "cell_type": "markdown",
   "metadata": {},
   "source": [
    "**Conclusion**:\n",
    "\n",
    "1. The input shape of the data plays a critical role in selection of layers and their depth. Selecting oversized/ undersized layers may lead to overfitting/ underfitting, this can learnt by experience, working on number of datasets regularly.\n",
    "\n",
    "\n",
    "2. The model accuracies depend on the number of convolutional layer selected with proper number of filters, selecting the number of dense layers with the activation function is important for a building a better model.\n",
    "\n",
    "\n",
    "3. Cross-Validation plays a critical role in deciding the model performance, various models should be tried before applying to entire train and test dataset.\n",
    "\n"
   ]
  },
  {
   "cell_type": "markdown",
   "metadata": {},
   "source": [
    "References:\n",
    "\n",
    "1. https://www.tensorflow.org/tutorials - For Basic syntax.\n",
    "\n",
    "2. https://classroom.udacity.com/courses/ud187/lessons/1771027d-8685-496f-8891-d7786efb71e1/concepts/8b8c3d93-4117-4134-b678-77d54634b656 - For understanding concepts.\n",
    "\n",
    "3. Dr. Timothy Havens - https://mtu.instructure.com/courses/1304186/modules - For understanding concepts.\n",
    "\n",
    "4. https://machinelearningmastery.com/how-to-develop-a-cnn-from-scratch-for-fashion-mnist-clothing-classification/ - For basic structure or Idea of the Tutorial."
   ]
  }
 ],
 "metadata": {
  "accelerator": "TPU",
  "colab": {
   "collapsed_sections": [],
   "name": "Untitled.ipynb",
   "provenance": []
  },
  "kernelspec": {
   "display_name": "Python 3",
   "language": "python",
   "name": "python3"
  },
  "language_info": {
   "codemirror_mode": {
    "name": "ipython",
    "version": 3
   },
   "file_extension": ".py",
   "mimetype": "text/x-python",
   "name": "python",
   "nbconvert_exporter": "python",
   "pygments_lexer": "ipython3",
   "version": "3.7.3"
  }
 },
 "nbformat": 4,
 "nbformat_minor": 1
}
